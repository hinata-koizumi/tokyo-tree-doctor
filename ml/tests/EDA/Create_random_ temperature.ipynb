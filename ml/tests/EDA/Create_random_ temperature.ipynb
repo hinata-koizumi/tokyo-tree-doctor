{
 "cells": [
  {
   "cell_type": "code",
   "execution_count": 1,
   "id": "3c90e2b3",
   "metadata": {},
   "outputs": [],
   "source": [
    "# 必要なライブラリのインポート\n",
    "import sys\n",
    "import numpy as np\n",
    "import pandas as pd\n",
    "from pathlib import Path"
   ]
  },
  {
   "cell_type": "code",
   "execution_count": 2,
   "id": "7d71a0d7",
   "metadata": {},
   "outputs": [],
   "source": [
    "# config 読み込み\n",
    "base_dir = Path.cwd().parent.parent\n",
    "config_path = base_dir / \"config\"\n",
    "sys.path.append(str(config_path))\n",
    "\n",
    "from config import (\n",
    "    RANDOM_SEED,\n",
    "    CLASS_PRIORS,\n",
    "    FEATURE_RANGES,\n",
    "    NOISE\n",
    ")\n",
    "\n",
    "rng = np.random.default_rng(RANDOM_SEED)"
   ]
  },
  {
   "cell_type": "code",
   "execution_count": 3,
   "id": "c526c162",
   "metadata": {},
   "outputs": [],
   "source": [
    "# パスを取得し、cdvデータの読込み込み\n",
    "csv_dir = base_dir / \"assets\" / \"csv_data\"\n",
    "input_path  = csv_dir / \"主要被害公園エリア_座標結合済み.csv\"\n",
    "output_path = csv_dir / \"主要被害公園エリア_leaftemp付与.csv\"\n",
    "df = pd.read_csv(input_path)"
   ]
  },
  {
   "cell_type": "code",
   "execution_count": 4,
   "id": "56fd0d55",
   "metadata": {},
   "outputs": [
    {
     "name": "stdout",
     "output_type": "stream",
     "text": [
      "CSVを出力完了: c:\\Users\\kyous\\OneDrive\\デスクトップ\\ハッカソン\\tokyo-tree-doctor_program\\tokyo-tree-doctor\\ml\\assets\\csv_data\\主要被害公園エリア_leaftemp付与.csv\n"
     ]
    },
    {
     "data": {
      "text/html": [
       "<div>\n",
       "<style scoped>\n",
       "    .dataframe tbody tr th:only-of-type {\n",
       "        vertical-align: middle;\n",
       "    }\n",
       "\n",
       "    .dataframe tbody tr th {\n",
       "        vertical-align: top;\n",
       "    }\n",
       "\n",
       "    .dataframe thead th {\n",
       "        text-align: right;\n",
       "    }\n",
       "</style>\n",
       "<table border=\"1\" class=\"dataframe\">\n",
       "  <thead>\n",
       "    <tr style=\"text-align: right;\">\n",
       "      <th></th>\n",
       "      <th>park_name</th>\n",
       "      <th>経度</th>\n",
       "      <th>緯度</th>\n",
       "      <th>leaf_temp_mean</th>\n",
       "    </tr>\n",
       "  </thead>\n",
       "  <tbody>\n",
       "    <tr>\n",
       "      <th>0</th>\n",
       "      <td>桜ヶ丘公園</td>\n",
       "      <td>139.456775</td>\n",
       "      <td>35.639011</td>\n",
       "      <td>29.828754</td>\n",
       "    </tr>\n",
       "    <tr>\n",
       "      <th>1</th>\n",
       "      <td>桜ヶ丘公園</td>\n",
       "      <td>139.456777</td>\n",
       "      <td>35.638741</td>\n",
       "      <td>24.667088</td>\n",
       "    </tr>\n",
       "    <tr>\n",
       "      <th>2</th>\n",
       "      <td>桜ヶ丘公園</td>\n",
       "      <td>139.457100</td>\n",
       "      <td>35.640364</td>\n",
       "      <td>31.532105</td>\n",
       "    </tr>\n",
       "    <tr>\n",
       "      <th>3</th>\n",
       "      <td>桜ヶ丘公園</td>\n",
       "      <td>139.457101</td>\n",
       "      <td>35.640094</td>\n",
       "      <td>28.982761</td>\n",
       "    </tr>\n",
       "    <tr>\n",
       "      <th>4</th>\n",
       "      <td>桜ヶ丘公園</td>\n",
       "      <td>139.457103</td>\n",
       "      <td>35.639823</td>\n",
       "      <td>26.972904</td>\n",
       "    </tr>\n",
       "  </tbody>\n",
       "</table>\n",
       "</div>"
      ],
      "text/plain": [
       "  park_name          経度         緯度  leaf_temp_mean\n",
       "0     桜ヶ丘公園  139.456775  35.639011       29.828754\n",
       "1     桜ヶ丘公園  139.456777  35.638741       24.667088\n",
       "2     桜ヶ丘公園  139.457100  35.640364       31.532105\n",
       "3     桜ヶ丘公園  139.457101  35.640094       28.982761\n",
       "4     桜ヶ丘公園  139.457103  35.639823       26.972904"
      ]
     },
     "metadata": {},
     "output_type": "display_data"
    }
   ],
   "source": [
    "# クラスを priors からサンプリング\n",
    "classes = list(CLASS_PRIORS.keys())\n",
    "priors  = np.array(list(CLASS_PRIORS.values()), dtype=float)\n",
    "priors  = priors / priors.sum() \n",
    "labels  = rng.choice(classes, size=len(df), p=priors)\n",
    "\n",
    "# leaf_temp_mean をクラスごとの範囲から一様乱数で生成 → ノイズ → クリップ \n",
    "vals = np.empty(len(df), dtype=float)\n",
    "\n",
    "for c in classes:\n",
    "    m = (labels == c)\n",
    "    if m.any():\n",
    "        lo, hi = FEATURE_RANGES[c][\"leaf_temp_mean\"]\n",
    "        vals[m] = rng.uniform(lo, hi, size=m.sum())\n",
    "\n",
    "# ガウスノイズ（平均0, σ=config.NOISE.get(\"leaf_temp_mean\", 0.0)）\n",
    "sigma = float(NOISE.get(\"leaf_temp_mean\", 0.0) or 0.0)\n",
    "if sigma > 0:\n",
    "    vals += rng.normal(0.0, sigma, size=len(vals))\n",
    "\n",
    "spill_p = float(NOISE.get(\"spillover_rate\", 0.0) or 0.0)\n",
    "if spill_p > 0:\n",
    "    k = int(spill_p * len(vals))\n",
    "    if k > 0:\n",
    "        idx = rng.choice(len(vals), size=k, replace=False)\n",
    "        sigma_sp = float(NOISE.get(\"leaf_temp_mean_spill\", 0.0) or 0.0)\n",
    "        if sigma_sp > 0:\n",
    "            vals[idx] += rng.normal(0.0, sigma_sp, size=k)\n",
    "\n",
    "# 物理レンジでクリップ（従来実装に合わせて）\n",
    "vals = np.clip(vals, 15.0, 50.0)\n",
    "\n",
    "# 結果をデータフレームに追加\n",
    "df[\"leaf_temp_mean\"] = vals\n",
    "out = df[[\"park_name\", \"経度\", \"緯度\", \"leaf_temp_mean\"]].copy()\n",
    "out.to_csv(output_path, index=False, encoding=\"utf-8-sig\")\n",
    "print(f\"CSVを出力完了: {output_path}\")\n",
    "display(out.head())"
   ]
  }
 ],
 "metadata": {
  "kernelspec": {
   "display_name": "Python 3",
   "language": "python",
   "name": "python3"
  },
  "language_info": {
   "codemirror_mode": {
    "name": "ipython",
    "version": 3
   },
   "file_extension": ".py",
   "mimetype": "text/x-python",
   "name": "python",
   "nbconvert_exporter": "python",
   "pygments_lexer": "ipython3",
   "version": "3.11.6"
  }
 },
 "nbformat": 4,
 "nbformat_minor": 5
}
